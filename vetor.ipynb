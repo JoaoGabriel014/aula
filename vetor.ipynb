{
 "cells": [
  {
   "cell_type": "code",
   "execution_count": 2,
   "metadata": {},
   "outputs": [
    {
     "name": "stdout",
     "output_type": "stream",
     "text": [
      "[ 2  4  6  8 10]\n",
      "[[1. 1. 1. 1.]\n",
      " [1. 1. 1. 1.]\n",
      " [1. 1. 1. 1.]]\n",
      "[[9 9]\n",
      " [9 9]]\n",
      "[0 1 2 3 4]\n"
     ]
    }
   ],
   "source": [
    "import numpy as np \n",
    "vet1 = np.array([2, 4, 6, 8, 10])\n",
    "vet2 = np.ones((3, 4))\n",
    "vet3 = np.full((2, 2), 9)\n",
    "vet4 = np.arange(5)\n",
    "print(vet1)\n",
    "print(vet2)\n",
    "print(vet3)\n",
    "print(vet4)"
   ]
  },
  {
   "cell_type": "code",
   "execution_count": 3,
   "metadata": {},
   "outputs": [
    {
     "name": "stdout",
     "output_type": "stream",
     "text": [
      "[[    0     0     0     0 21968 25912   630     0     0     0]]\n"
     ]
    }
   ],
   "source": [
    "vet5 = np.random.random(5)\n",
    "vet6 = np.eye (3)\n",
    "vet7 = np.empty((1, 10), dtype=np.int16)\n",
    "print(vet7)\n"
   ]
  }
 ],
 "metadata": {
  "kernelspec": {
   "display_name": "Python 3",
   "language": "python",
   "name": "python3"
  },
  "language_info": {
   "codemirror_mode": {
    "name": "ipython",
    "version": 3
   },
   "file_extension": ".py",
   "mimetype": "text/x-python",
   "name": "python",
   "nbconvert_exporter": "python",
   "pygments_lexer": "ipython3",
   "version": "3.12.2"
  }
 },
 "nbformat": 4,
 "nbformat_minor": 2
}
