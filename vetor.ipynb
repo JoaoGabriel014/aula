{
 "cells": [
  {
   "cell_type": "code",
   "execution_count": 3,
   "metadata": {},
   "outputs": [
    {
     "name": "stdout",
     "output_type": "stream",
     "text": [
      "[ 2  4  6  8 10]\n",
      "[[1. 1. 1. 1.]\n",
      " [1. 1. 1. 1.]\n",
      " [1. 1. 1. 1.]]\n",
      "[[9 9]\n",
      " [9 9]]\n",
      "[0 1 2 3 4]\n"
     ]
    }
   ],
   "source": [
    "import numpy as np \n",
    "vet1 = np.array([2, 4, 6, 8, 10])\n",
    "vet2 = np.ones((3, 4))\n",
    "vet3 = np.full((2, 2), 9)\n",
    "vet4 = np.arange(5)\n",
    "print(vet1)\n",
    "print(vet2)\n",
    "print(vet3)\n",
    "print(vet4)"
   ]
  },
  {
   "cell_type": "code",
   "execution_count": 4,
   "metadata": {},
   "outputs": [
    {
     "name": "stdout",
     "output_type": "stream",
     "text": [
      "[[1 0 0 0 8 0 0 0 0 0]]\n"
     ]
    }
   ],
   "source": [
    "#cria vetor de 5 elementos com numeros aleatorios\n",
    "vet5 = np.random.random(5)\n",
    "\n",
    "#cria matriz identidade 3x3\n",
    "vet6 = np.eye (3)\n",
    "\n",
    "#cria vetor vazio de 10 inteiros de 16 bytes\n",
    "vet7 = np.empty((1, 10), dtype=np.int16)\n",
    "#mostra os elementos do vetor\n",
    "print(vet7)\n"
   ]
  },
  {
   "cell_type": "code",
   "execution_count": 5,
   "metadata": {},
   "outputs": [
    {
     "data": {
      "text/plain": [
       "array([[0, 0, 0, 0, 0],\n",
       "       [0, 0, 0, 0, 0]], dtype=int16)"
      ]
     },
     "execution_count": 5,
     "metadata": {},
     "output_type": "execute_result"
    }
   ],
   "source": [
    "a = np.empty((2, 5), dtype= float)\n",
    "\n",
    "#verifica quantidade de elementos\n",
    "a.size\n",
    "#tipo de elemento\n",
    "a.dtype\n",
    "#numero de dimensões\n",
    "a.ndim\n",
    "#formato linhas e colunas\n",
    "a.shape\n",
    "#converte o tipo de elementos\n",
    "a.astype(np.int16)"
   ]
  },
  {
   "cell_type": "code",
   "execution_count": null,
   "metadata": {},
   "outputs": [],
   "source": [
    "v1 = np.zero (5)\n",
    "v2 = np.ones ((2, 2))\n",
    "V3 = np.full ((1, 2), 3)\n",
    "\n",
    "#soma cada linha de v3 a v2\n",
    "v2 + V3\n",
    "\n",
    "#operação impossivel! dimensoes incompativeis\n",
    "v1 + v2"
   ]
  }
 ],
 "metadata": {
  "kernelspec": {
   "display_name": "base",
   "language": "python",
   "name": "python3"
  },
  "language_info": {
   "codemirror_mode": {
    "name": "ipython",
    "version": 3
   },
   "file_extension": ".py",
   "mimetype": "text/x-python",
   "name": "python",
   "nbconvert_exporter": "python",
   "pygments_lexer": "ipython3",
   "version": "3.12.7"
  }
 },
 "nbformat": 4,
 "nbformat_minor": 2
}
