{
 "cells": [
  {
   "cell_type": "code",
   "execution_count": null,
   "metadata": {},
   "outputs": [
    {
     "name": "stdout",
     "output_type": "stream",
     "text": [
      "olá  seu codigo de acesso é: 613428\n"
     ]
    }
   ],
   "source": [
    "import random\n",
    "\n",
    "codigo =random.randint(100000, 999999)\n",
    "nome=input(\"Digite seu nome: \")\n",
    "print(f\"olá {nome} seu codigo de acesso é: {codigo}\")\n",
    "\n"
   ]
  },
  {
   "cell_type": "code",
   "execution_count": 2,
   "metadata": {},
   "outputs": [
    {
     "name": "stdout",
     "output_type": "stream",
     "text": [
      "[1, 4, 5, 6, 7, 7, 8, 10, 10, 10]\n"
     ]
    }
   ],
   "source": [
    "import random\n",
    "A = []\n",
    "for i in range(10):\n",
    "    x = random.randint(1,10)\n",
    "    A.append(x)\n",
    "A.sort()\n",
    "print(A)\n"
   ]
  },
  {
   "cell_type": "code",
   "execution_count": 3,
   "metadata": {},
   "outputs": [
    {
     "name": "stdout",
     "output_type": "stream",
     "text": [
      "[1, 4, 5, 6, 7, 7, 8, 10, 10, 10]\n",
      "[4, 6, 7, 7, 8, 10, 10, 10]\n"
     ]
    }
   ],
   "source": [
    "print(A)\n",
    "del A[0:4:2]\n",
    "print(A)"
   ]
  },
  {
   "cell_type": "code",
   "execution_count": 4,
   "metadata": {},
   "outputs": [
    {
     "name": "stdout",
     "output_type": "stream",
     "text": [
      "[4, 6, 7, 7, 8, 10, 10, 10]\n",
      "[4, 6, 7, 7, 8, 10, 10]\n"
     ]
    }
   ],
   "source": [
    "print(A)\n",
    "A.pop()\n",
    "print(A)"
   ]
  },
  {
   "cell_type": "code",
   "execution_count": 5,
   "metadata": {},
   "outputs": [
    {
     "name": "stdout",
     "output_type": "stream",
     "text": [
      "Não temos o valor\n",
      "[4, 6, 7, 7, 8, 10, 10]\n"
     ]
    }
   ],
   "source": [
    "if 5 in A:\n",
    "    print('Sim, temos o valor')\n",
    "else:\n",
    "    print('Não temos o valor')\n",
    "print(A)"
   ]
  },
  {
   "cell_type": "code",
   "execution_count": 6,
   "metadata": {},
   "outputs": [
    {
     "name": "stdout",
     "output_type": "stream",
     "text": [
      "[4, 6, 7, 7, 8, 10, 10]\n",
      "[]\n"
     ]
    }
   ],
   "source": [
    "print(A)\n",
    "A.clear()\n",
    "print(A)"
   ]
  },
  {
   "cell_type": "code",
   "execution_count": 7,
   "metadata": {},
   "outputs": [
    {
     "name": "stdout",
     "output_type": "stream",
     "text": [
      "['carro', 'casa', 'moto']\n"
     ]
    }
   ],
   "source": [
    "minha_lista = list ((\"carro\", \"casa\", \"moto\"))\n",
    "print(minha_lista)"
   ]
  },
  {
   "cell_type": "code",
   "execution_count": 8,
   "metadata": {},
   "outputs": [
    {
     "name": "stdout",
     "output_type": "stream",
     "text": [
      "[100, 150, 200, 250, 300, 350, 400, 450, 500, 550, 600, 650, 700, 750, 800, 850, 900, 950, 1000, 1050]\n"
     ]
    }
   ],
   "source": [
    "L = list(range(100, 1100, 50))\n",
    "print(L)"
   ]
  }
 ],
 "metadata": {
  "kernelspec": {
   "display_name": "base",
   "language": "python",
   "name": "python3"
  },
  "language_info": {
   "codemirror_mode": {
    "name": "ipython",
    "version": 3
   },
   "file_extension": ".py",
   "mimetype": "text/x-python",
   "name": "python",
   "nbconvert_exporter": "python",
   "pygments_lexer": "ipython3",
   "version": "3.12.7"
  }
 },
 "nbformat": 4,
 "nbformat_minor": 2
}
