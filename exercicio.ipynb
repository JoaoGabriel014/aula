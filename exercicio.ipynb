{
 "cells": [
  {
   "cell_type": "code",
   "execution_count": 3,
   "metadata": {},
   "outputs": [
    {
     "name": "stdout",
     "output_type": "stream",
     "text": [
      "[1, 2, 3, 4, 5, 6]\n"
     ]
    }
   ],
   "source": [
    "A = [1, 2, 3, 4, 5]\n",
    "A.append(6)\n",
    "print(A)"
   ]
  },
  {
   "cell_type": "code",
   "execution_count": 6,
   "metadata": {},
   "outputs": [
    {
     "name": "stdout",
     "output_type": "stream",
     "text": [
      "Média de mariana = 8\n"
     ]
    }
   ],
   "source": [
    "medias = {\"maciely\": 7, \"mariana\": 8, \"alisson\": 8, \"jose adriano\": 9}\n",
    "\n",
    "nome = input(\"Informe o nome do aluno: \")\n",
    "\n",
    "if nome in medias:\n",
    "    print(f\"Média de {nome} = {medias[nome]}\")\n",
    "else:\n",
    "    print(\"Aluno não encontrado.\")\n"
   ]
  },
  {
   "cell_type": "code",
   "execution_count": null,
   "metadata": {},
   "outputs": [],
   "source": [
    "medias[\"reinaldo\"] = 8\n",
    "medias[\"Carlos\"] = 6 \n",
    "print(medias.keys)\n",
    "print(medias.values)"
   ]
  },
  {
   "cell_type": "code",
   "execution_count": 7,
   "metadata": {},
   "outputs": [
    {
     "name": "stdout",
     "output_type": "stream",
     "text": [
      "{'marca': 'ford', 'modelo': 'mustang', 'ano': 1664}\n"
     ]
    }
   ],
   "source": [
    "carros=dict(\n",
    "    marca=\"ford\", modelo=\"mustang\", ano=1964\n",
    ")\n",
    "print(carros)"
   ]
  }
 ],
 "metadata": {
  "kernelspec": {
   "display_name": "base",
   "language": "python",
   "name": "python3"
  },
  "language_info": {
   "codemirror_mode": {
    "name": "ipython",
    "version": 3
   },
   "file_extension": ".py",
   "mimetype": "text/x-python",
   "name": "python",
   "nbconvert_exporter": "python",
   "pygments_lexer": "ipython3",
   "version": "3.12.7"
  }
 },
 "nbformat": 4,
 "nbformat_minor": 2
}
