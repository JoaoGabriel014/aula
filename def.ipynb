{
 "cells": [
  {
   "cell_type": "code",
   "execution_count": 3,
   "metadata": {},
   "outputs": [],
   "source": [
    "def pesquise(lista, valor ):\n",
    "    for x, e in enumerate(lista):\n",
    "        if e == valor:\n",
    "            print(\"posição encontrada\", x )\n",
    "            return x\n",
    "        return None\n",
    "    valores = [13, 17, 19, 23]\n",
    "    print(pesquise(valores, 19))\n",
    "    print(pesquise(valores, 31))"
   ]
  }
 ],
 "metadata": {
  "kernelspec": {
   "display_name": "base",
   "language": "python",
   "name": "python3"
  },
  "language_info": {
   "codemirror_mode": {
    "name": "ipython",
    "version": 3
   },
   "file_extension": ".py",
   "mimetype": "text/x-python",
   "name": "python",
   "nbconvert_exporter": "python",
   "pygments_lexer": "ipython3",
   "version": "3.12.7"
  }
 },
 "nbformat": 4,
 "nbformat_minor": 2
}
